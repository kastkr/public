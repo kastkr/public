{
 "cells": [
  {
   "cell_type": "markdown",
   "metadata": {},
   "source": [
    "**Introduction/Business Problem **\n",
    "\n",
    "Determine in a quantifiable manner where is the best location to open a brewery in the city of Seattle.  As an aspiring brewer I believe the best place to open a brewery is **A)** a location that is part of a tight cluster of oth[](http://)er breweries **B)** of the clusters - the best cluster is the one that has the most food/dining options in close proximity.  The goal is to leverage a data driven approach for identifying the appropriate geographic clusters, ranking them based on proximity/magnitude of food/dining options, and then presenting the output in an easily consumable map."
   ]
  },
  {
   "cell_type": "markdown",
   "metadata": {},
   "source": [
    "**Data**\n",
    "\n",
    "The data for this exercise is going to be captured leveraging the Foursquare API.  Specifically we will be leveraging the **search** endpoint to first find all breweries within the Seattle area.  After this we will then be clustering these breweries based on geography.  Finally we will be using the centerpoints of these clusters to then once again leverage the **search** endpoint to identify the cluster with the greatest preponderance of food/dining options in close proximity."
   ]
  }
 ],
 "metadata": {
  "kernelspec": {
   "display_name": "Python 3",
   "language": "python",
   "name": "python3"
  },
  "language_info": {
   "codemirror_mode": {
    "name": "ipython",
    "version": 3
   },
   "file_extension": ".py",
   "mimetype": "text/x-python",
   "name": "python",
   "nbconvert_exporter": "python",
   "pygments_lexer": "ipython3",
   "version": "3.6.6"
  }
 },
 "nbformat": 4,
 "nbformat_minor": 1
}
